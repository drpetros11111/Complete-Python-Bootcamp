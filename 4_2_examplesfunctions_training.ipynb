{
  "cells": [
    {
      "cell_type": "markdown",
      "metadata": {
        "id": "view-in-github",
        "colab_type": "text"
      },
      "source": [
        "<a href=\"https://colab.research.google.com/github/drpetros11111/Complete-Python-Bootcamp/blob/main/4_2_examplesfunctions_training.ipynb\" target=\"_parent\"><img src=\"https://colab.research.google.com/assets/colab-badge.svg\" alt=\"Open In Colab\"/></a>"
      ]
    },
    {
      "cell_type": "markdown",
      "metadata": {
        "id": "RpLmNS8sDZa0"
      },
      "source": [
        "#### Functions Examples\n"
      ]
    },
    {
      "cell_type": "markdown",
      "metadata": {
        "id": "B5JI-7jJDZa5"
      },
      "source": [
        "#### Example 1: Temperature Conversion"
      ]
    },
    {
      "cell_type": "code",
      "execution_count": null,
      "metadata": {
        "id": "VpiRkc2HDZa5",
        "outputId": "ad785cbd-4200-4498-d345-58be8f33012d"
      },
      "outputs": [
        {
          "name": "stdout",
          "output_type": "stream",
          "text": [
            "77.0\n",
            "25.0\n"
          ]
        }
      ],
      "source": [
        "def convert_temperature(temp,unit):\n",
        "    \"\"\"This function converts temperature between Celsius and Fahrenheit\"\"\"\n",
        "    if unit=='C':\n",
        "        return temp * 9/5 + 32  ## Celsius To Fahrenheit\n",
        "    elif unit==\"F\":\n",
        "        return (temp-32)*5/9 ## Fahrenheit to celsius\n",
        "    else:\n",
        "        return None\n",
        "\n",
        "print(convert_temperature(25,'C'))\n",
        "print(convert_temperature(77,'F'))"
      ]
    },
    {
      "cell_type": "markdown",
      "metadata": {
        "id": "DoJD_AMiDZa7"
      },
      "source": [
        "##### Example 2: Password Strength Checker"
      ]
    },
    {
      "cell_type": "code",
      "execution_count": null,
      "metadata": {
        "id": "o01jddfuDZa8",
        "outputId": "86cca008-4bc8-49b3-cda1-ea0e496ece23"
      },
      "outputs": [
        {
          "name": "stdout",
          "output_type": "stream",
          "text": [
            "False\n",
            "True\n"
          ]
        }
      ],
      "source": [
        "def is_strong_password(password):\n",
        "    \"\"\"This function checks if the password is strong or not\"\"\"\n",
        "    if len(password)<8:\n",
        "        return False\n",
        "    if not any(char.isdigit() for char in password):\n",
        "        return False\n",
        "    if not any(char.islower() for char in password):\n",
        "        return False\n",
        "    if not any(char.isupper() for char in password):\n",
        "        return False\n",
        "    if not any(char in '!@#$%^&*()_+' for char in password):\n",
        "        return False\n",
        "    return True\n",
        "\n",
        "## calling the function\n",
        "print(is_strong_password(\"WeakPwd\"))\n",
        "print(is_strong_password(\"Str0ngPwd!\"))\n",
        "\n",
        ""
      ]
    },
    {
      "cell_type": "markdown",
      "metadata": {
        "id": "QaY7QLXoDZa8"
      },
      "source": [
        "##### Example 3: Calculate the Total Cost Of Items In a Shopping Cart"
      ]
    },
    {
      "cell_type": "code",
      "execution_count": null,
      "metadata": {
        "id": "mtE9FovKDZa9",
        "outputId": "79803658-cd14-441e-e1ce-d671a6f07f55"
      },
      "outputs": [
        {
          "name": "stdout",
          "output_type": "stream",
          "text": [
            "5.8999999999999995\n"
          ]
        }
      ],
      "source": [
        "def calculate_total_cost(cart):\n",
        "    total_cost=0\n",
        "    for item in cart:\n",
        "        total_cost+=item['price']* item['quantity']\n",
        "\n",
        "    return total_cost\n",
        "\n",
        "\n",
        "## Example cart data\n",
        "\n",
        "cart=[\n",
        "    {'name':'Apple','price':0.5,'quantity':4},\n",
        "    {'name':'Banana','price':0.3,'quantity':6},\n",
        "    {'name':'Orange','price':0.7,'quantity':3}\n",
        "\n",
        "]\n",
        "\n",
        "## calling the function\n",
        "total_cost=calculate_total_cost(cart)\n",
        "print(total_cost)"
      ]
    },
    {
      "cell_type": "markdown",
      "metadata": {
        "id": "0l_g0DfgDZa9"
      },
      "source": [
        "##### Example 4: Check IF a String Is Palindrome"
      ]
    },
    {
      "cell_type": "code",
      "execution_count": null,
      "metadata": {
        "id": "KJrOvHX3DZa-",
        "outputId": "52f021fe-0698-4682-b002-dada42f07334"
      },
      "outputs": [
        {
          "name": "stdout",
          "output_type": "stream",
          "text": [
            "True\n",
            "False\n"
          ]
        }
      ],
      "source": [
        "def is_palindrome(s):\n",
        "    s=s.lower().replace(\" \",\"\")\n",
        "    return s==s[::-1]\n",
        "\n",
        "print(is_palindrome(\"A man a plan a canal Panama\"))\n",
        "print(is_palindrome(\"Hello\"))"
      ]
    },
    {
      "cell_type": "markdown",
      "source": [
        "# is_palindrome function\n",
        "def is_palindrome(s):: This line defines a function named is_palindrome.\n",
        "\n",
        "It takes one argument, s, which represents the input string we want to check.\n",
        "\n",
        "----\n",
        "---------------------\n",
        "    s = s.lower().replace(\" \", \"\"):\n",
        "\n",
        "##s.lower():\n",
        "\n",
        "This part converts the input string s to lowercase.\n",
        "\n",
        "This ensures that the function is case-insensitive.\n",
        "\n",
        "For instance, \"Racecar\" and \"racecar\" would both be considered palindromes.\n",
        "\n",
        "----\n",
        "##.replace(\" \", \"\"):\n",
        "This part removes all spaces from the string.\n",
        "\n",
        "This is done to ignore spaces when determining if the string is a palindrome.\n",
        "\n",
        "For instance, \"A man a plan a canal Panama\" would be considered a palindrome even with spaces.\n",
        "\n",
        "-----\n",
        "    return s == s[::-1]:\n",
        "\n",
        "This line is the core of the palindrome check:\n",
        "\n",
        "##s[::-1] :\n",
        "\n",
        "Slicing in Python In Python, you can use slicing to extract a portion of a sequence (like a string, list, or tuple).\n",
        "\n",
        "Slicing uses square brackets [] and has the following general format:\n",
        "\n",
        "    sequence[start:stop:step]\n",
        "\n",
        "Where:\n",
        "\n",
        "##start:\n",
        "The index where the slice starts (inclusive).\n",
        "\n",
        "If omitted, defaults to 0.\n",
        "\n",
        "##stop:\n",
        "The index where the slice ends (exclusive).\n",
        "\n",
        "If omitted, defaults to the length of the sequence.\n",
        "\n",
        "##step:\n",
        "The increment between elements.\n",
        "\n",
        "If omitted, defaults to 1.\n",
        "\n",
        "##Reversing a String Now, let's apply this to s[::-1]:\n",
        "\n",
        "##s:\n",
        "This refers to the string you want to slice (and reverse in this case).\n",
        "\n",
        "start: Omitted, so it defaults to 0 (the beginning of the string).\n",
        "\n",
        "stop: Omitted, so it defaults to the length of the string (the end of the string).\n",
        "\n",
        "##step: -1  \n",
        "This is the key. A negative step value indicates that we want to move backward through the string.\n",
        "\n",
        "How it Works With step = -1, the slicing starts at the end of the string (stop is omitted, so it defaults to the end), moves backward one element at a time (step = -1), and continues until it reaches the beginning of the string (start is omitted, so it defaults to 0).\n",
        "\n",
        "In essence, s[::-1] creates a reversed copy of the string s.\n",
        "\n",
        "---------------------------\n",
        "##Example\n",
        "    s = \"Hello\"\n",
        "    reversed_s = s[::-1]\n",
        "    print(reversed_s)  # Output: olleH\n",
        "\n",
        "\n",
        "This creates a reversed copy of the string s. The [::-1] slicing technique reverses the string.\n",
        "\n",
        "-----------------------\n",
        "##s == s[::-1] :\n",
        "This compares the original string s with its reversed version.\n",
        "\n",
        "If they are identical, it means the string is a palindrome, and the function returns True.\n",
        "\n",
        "Otherwise, it returns False.\n",
        "\n",
        "--------\n",
        "Calling the Function:\n",
        "\n",
        "\n",
        "    print(is_palindrome(\"A man a plan a canal Panama\"))\n",
        "\n",
        "    print(is_palindrome(\"Hello\"))\n",
        "\n",
        "\n",
        "These lines call the is_palindrome function with two different input strings:\n",
        "\n",
        "##\"A man a plan a canal Panama\":\n",
        "\n",
        "Since this string reads the same backward as forward (ignoring spaces and case), the function will return True, which will be printed to the output.\n",
        "\n",
        "##\"Hello\":\n",
        "\n",
        "Since this string is not a palindrome, the function will return False, which will be printed to the output.\n",
        "\n",
        "-------------\n",
        "#In summary\n",
        "This code defines a function that determines whether a given string is a palindrome.\n",
        "\n",
        "It converts the input to lowercase, removes spaces, and checks if the string is identical to its reversed version.\n",
        "\n",
        "It then demonstrates the function's usage with two example strings."
      ],
      "metadata": {
        "id": "_edyc0iQGBDz"
      }
    },
    {
      "cell_type": "markdown",
      "metadata": {
        "id": "nWjfzWmtDZa-"
      },
      "source": [
        "##### Example 5: Calculate the factorials of a number using recursion"
      ]
    },
    {
      "cell_type": "code",
      "execution_count": null,
      "metadata": {
        "id": "g_0igv7CDZa-",
        "outputId": "ff868e0a-1006-4f4f-b6fc-e29096c2feca"
      },
      "outputs": [
        {
          "name": "stdout",
          "output_type": "stream",
          "text": [
            "720\n"
          ]
        }
      ],
      "source": [
        "def factorial(n):\n",
        "    if n==0:\n",
        "        return 1\n",
        "    else:\n",
        "        return n * factorial(n-1)\n",
        "\n",
        "print(factorial(6))"
      ]
    },
    {
      "cell_type": "markdown",
      "metadata": {
        "id": "qs-cdtvODZa_"
      },
      "source": [
        "##### Example 6: A Function To Read A File and count the frequency of each word"
      ]
    },
    {
      "cell_type": "code",
      "execution_count": null,
      "metadata": {
        "id": "wkjjhl8VDZa_",
        "outputId": "a8ea7021-e982-461c-cea0-10c2caa5ba32"
      },
      "outputs": [
        {
          "name": "stdout",
          "output_type": "stream",
          "text": [
            "{'hello': 1, 'world': 1, 'how': 1, 'are': 1, 'you': 1, 'my': 1, 'name': 1, 'is': 1, 'krish': 2}\n"
          ]
        }
      ],
      "source": [
        "def count_word_frequency(file_path):\n",
        "    word_count={}\n",
        "    with open(file_path,'r') as file:\n",
        "        for line in file:\n",
        "            words=line.split()\n",
        "            for word in words:\n",
        "                word=word.lower().strip('.,!?;:\"\\'')\n",
        "                word_count[word]=word_count.get(word,0)+1\n",
        "\n",
        "    return word_count\n",
        "\n",
        "filepath='sample.txt'\n",
        "word_frequency=count_word_frequency(filepath)\n",
        "print(word_frequency)\n"
      ]
    },
    {
      "cell_type": "markdown",
      "metadata": {
        "id": "uVoy75kwDZa_"
      },
      "source": [
        "##### Example 7: Validate Email Address"
      ]
    },
    {
      "cell_type": "code",
      "execution_count": null,
      "metadata": {
        "id": "4E_YzBAtDZa_",
        "outputId": "feaaa413-0ad0-450a-8a67-c381cd7d9ddf"
      },
      "outputs": [
        {
          "name": "stdout",
          "output_type": "stream",
          "text": [
            "True\n",
            "False\n"
          ]
        }
      ],
      "source": [
        "import re\n",
        "\n",
        "# Email validation function\n",
        "def is_valid_email(email):\n",
        "    \"\"\"This function checks if the email is valid.\"\"\"\n",
        "    pattern = r'^[a-zA-Z0-9_.+-]+@[a-zA-Z0-9-]+\\.[a-zA-Z0-9-.]+$'\n",
        "    return re.match(pattern, email) is not None\n",
        "\n",
        "# Calling the function\n",
        "print(is_valid_email(\"test@example.com\"))  # Output: True\n",
        "print(is_valid_email(\"invalid-email\"))  # Output: False\n"
      ]
    },
    {
      "cell_type": "code",
      "execution_count": null,
      "metadata": {
        "id": "KDX3VqipDZa_"
      },
      "outputs": [],
      "source": []
    }
  ],
  "metadata": {
    "kernelspec": {
      "display_name": "Python 3",
      "language": "python",
      "name": "python3"
    },
    "language_info": {
      "codemirror_mode": {
        "name": "ipython",
        "version": 3
      },
      "file_extension": ".py",
      "mimetype": "text/x-python",
      "name": "python",
      "nbconvert_exporter": "python",
      "pygments_lexer": "ipython3",
      "version": "3.12.0"
    },
    "colab": {
      "provenance": [],
      "include_colab_link": true
    }
  },
  "nbformat": 4,
  "nbformat_minor": 0
}